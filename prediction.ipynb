import tensorflow as tf
from google.colab import files
import cv2
import numpy as np

# Upload the image file
uploaded = files.upload()

# Get the file name
file_name = next(iter(uploaded))

# Load the image using OpenCV
image = cv2.imread(file_name)

# Preprocess the image
target_width = 224
target_height = 224
image = cv2.resize(image, (target_width, target_height))
image = image / 255.0  # Normalize pixel values

# Load the model
model = tf.keras.models.load_model('/content/drive/MyDrive/acne_eczema_classifier.h5')

# Make predictions
predictions = model.predict(np.expand_dims(image, axis=0))

# Get the class labels
class_labels = ['Acne','Eczemaa']  # Replace [...] with your list of class labels

# Get the index of the class with the highest probability
predicted_class_index = np.argmax(predictions)

# Get the predicted class label
predicted_class = class_labels[predicted_class_index]

# Display the predicted class
print("Predicted Class:", predicted_class)
